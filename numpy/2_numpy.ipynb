{
 "cells": [
  {
   "cell_type": "markdown",
   "id": "774d5d25",
   "metadata": {},
   "source": [
    "# Array creation by conversion from other python structures"
   ]
  },
  {
   "cell_type": "code",
   "execution_count": 1,
   "id": "f1a287df",
   "metadata": {},
   "outputs": [],
   "source": [
    "import numpy as np"
   ]
  },
  {
   "cell_type": "markdown",
   "id": "ae8a6274",
   "metadata": {},
   "source": [
    "1d array, the second parameter is optional we can customize the size of our stored datatypes"
   ]
  },
  {
   "cell_type": "code",
   "execution_count": 38,
   "id": "50b87532",
   "metadata": {},
   "outputs": [],
   "source": [
    "arr = np.array([67,12,45,89], np.int32)"
   ]
  },
  {
   "cell_type": "markdown",
   "id": "3edf4215",
   "metadata": {},
   "source": [
    "2d array "
   ]
  },
  {
   "cell_type": "code",
   "execution_count": 41,
   "id": "40205ce0",
   "metadata": {},
   "outputs": [],
   "source": [
    "myarr = np.array([[2,34,98], [6,1,89], [7,9,24]])"
   ]
  },
  {
   "cell_type": "code",
   "execution_count": 42,
   "id": "ad388eee",
   "metadata": {},
   "outputs": [
    {
     "data": {
      "text/plain": [
       "array([[ 2, 34, 98],\n",
       "       [ 6,  1, 89],\n",
       "       [ 7,  9, 24]])"
      ]
     },
     "execution_count": 42,
     "metadata": {},
     "output_type": "execute_result"
    }
   ],
   "source": [
    "myarr"
   ]
  },
  {
   "cell_type": "code",
   "execution_count": 32,
   "id": "8a7b0d59",
   "metadata": {},
   "outputs": [
    {
     "data": {
      "text/plain": [
       "(1, 4)"
      ]
     },
     "execution_count": 32,
     "metadata": {},
     "output_type": "execute_result"
    }
   ],
   "source": [
    "myarr.shape"
   ]
  },
  {
   "cell_type": "markdown",
   "id": "28f10d4f",
   "metadata": {},
   "source": [
    "updating a value inside a 2d array"
   ]
  },
  {
   "cell_type": "code",
   "execution_count": 40,
   "id": "fc849464",
   "metadata": {},
   "outputs": [],
   "source": [
    "myarr[0,1] = 45"
   ]
  },
  {
   "cell_type": "code",
   "execution_count": 36,
   "id": "3cf7517f",
   "metadata": {},
   "outputs": [
    {
     "data": {
      "text/plain": [
       "dtype('int32')"
      ]
     },
     "execution_count": 36,
     "metadata": {},
     "output_type": "execute_result"
    }
   ],
   "source": [
    "myarr.dtype"
   ]
  },
  {
   "cell_type": "code",
   "execution_count": 44,
   "id": "555c3f6a",
   "metadata": {},
   "outputs": [
    {
     "data": {
      "text/plain": [
       "9"
      ]
     },
     "execution_count": 44,
     "metadata": {},
     "output_type": "execute_result"
    }
   ],
   "source": [
    "myarr.size"
   ]
  },
  {
   "cell_type": "markdown",
   "id": "f1382ac9",
   "metadata": {},
   "source": [
    "array creation of object type"
   ]
  },
  {
   "cell_type": "code",
   "execution_count": 45,
   "id": "81d4f344",
   "metadata": {},
   "outputs": [
    {
     "data": {
      "text/plain": [
       "array({1, 3, 5}, dtype=object)"
      ]
     },
     "execution_count": 45,
     "metadata": {},
     "output_type": "execute_result"
    }
   ],
   "source": [
    "np.array({5,1,3})"
   ]
  },
  {
   "cell_type": "markdown",
   "id": "c4977aab",
   "metadata": {},
   "source": [
    "# Intrinsic numpy array creation objects"
   ]
  },
  {
   "cell_type": "markdown",
   "id": "f530078c",
   "metadata": {},
   "source": [
    "array containing zeros with size 2 rows and 14 columns "
   ]
  },
  {
   "cell_type": "code",
   "execution_count": 49,
   "id": "a8bcbf5e",
   "metadata": {},
   "outputs": [],
   "source": [
    "zero = np.zeros((2,14))"
   ]
  },
  {
   "cell_type": "code",
   "execution_count": 50,
   "id": "48876db5",
   "metadata": {},
   "outputs": [
    {
     "data": {
      "text/plain": [
       "array([[0., 0., 0., 0., 0., 0., 0., 0., 0., 0., 0., 0., 0., 0.],\n",
       "       [0., 0., 0., 0., 0., 0., 0., 0., 0., 0., 0., 0., 0., 0.]])"
      ]
     },
     "execution_count": 50,
     "metadata": {},
     "output_type": "execute_result"
    }
   ],
   "source": [
    "zero"
   ]
  },
  {
   "cell_type": "markdown",
   "id": "2b89c896",
   "metadata": {},
   "source": [
    "0 to n-1 numbers in an array"
   ]
  },
  {
   "cell_type": "code",
   "execution_count": 52,
   "id": "920e9093",
   "metadata": {},
   "outputs": [],
   "source": [
    "rng = np.arange(15)"
   ]
  },
  {
   "cell_type": "code",
   "execution_count": 53,
   "id": "430ecc7d",
   "metadata": {},
   "outputs": [
    {
     "data": {
      "text/plain": [
       "array([ 0,  1,  2,  3,  4,  5,  6,  7,  8,  9, 10, 11, 12, 13, 14])"
      ]
     },
     "execution_count": 53,
     "metadata": {},
     "output_type": "execute_result"
    }
   ],
   "source": [
    "rng"
   ]
  },
  {
   "cell_type": "markdown",
   "id": "3aff68a5",
   "metadata": {},
   "source": [
    "array with 20 numbers from 1 to 5 with same amount of diff with any to consecutive element"
   ]
  },
  {
   "cell_type": "code",
   "execution_count": 56,
   "id": "0ef9cdf0",
   "metadata": {},
   "outputs": [],
   "source": [
    "lspace = np.linspace(1,5,20)"
   ]
  },
  {
   "cell_type": "code",
   "execution_count": 57,
   "id": "8d55bcd3",
   "metadata": {},
   "outputs": [
    {
     "data": {
      "text/plain": [
       "array([1.        , 1.21052632, 1.42105263, 1.63157895, 1.84210526,\n",
       "       2.05263158, 2.26315789, 2.47368421, 2.68421053, 2.89473684,\n",
       "       3.10526316, 3.31578947, 3.52631579, 3.73684211, 3.94736842,\n",
       "       4.15789474, 4.36842105, 4.57894737, 4.78947368, 5.        ])"
      ]
     },
     "execution_count": 57,
     "metadata": {},
     "output_type": "execute_result"
    }
   ],
   "source": [
    "lspace"
   ]
  },
  {
   "cell_type": "markdown",
   "id": "79b8ccfc",
   "metadata": {},
   "source": [
    "empty array of size 4,4 with random values"
   ]
  },
  {
   "cell_type": "code",
   "execution_count": 64,
   "id": "2f2072b9",
   "metadata": {},
   "outputs": [],
   "source": [
    "emp = np.empty((4,4))"
   ]
  },
  {
   "cell_type": "code",
   "execution_count": 65,
   "id": "f20b66c8",
   "metadata": {},
   "outputs": [
    {
     "data": {
      "text/plain": [
       "array([[6.23042070e-307, 4.67296746e-307, 1.69121096e-306,\n",
       "        1.78020169e-306],\n",
       "       [8.34441742e-308, 1.78022342e-306, 6.23058028e-307,\n",
       "        9.79107872e-307],\n",
       "       [6.89807188e-307, 7.56594375e-307, 6.23060065e-307,\n",
       "        1.78021527e-306],\n",
       "       [8.34454050e-308, 1.11261027e-306, 1.15706896e-306,\n",
       "        1.33512173e-306]])"
      ]
     },
     "execution_count": 65,
     "metadata": {},
     "output_type": "execute_result"
    }
   ],
   "source": [
    "emp"
   ]
  },
  {
   "cell_type": "markdown",
   "id": "41336689",
   "metadata": {},
   "source": [
    "empty array with values and size of lspace array"
   ]
  },
  {
   "cell_type": "code",
   "execution_count": 68,
   "id": "217fbf34",
   "metadata": {},
   "outputs": [],
   "source": [
    "empl = np.empty_like(lspace)"
   ]
  },
  {
   "cell_type": "code",
   "execution_count": 69,
   "id": "dc664ae5",
   "metadata": {},
   "outputs": [
    {
     "data": {
      "text/plain": [
       "array([1.        , 1.21052632, 1.42105263, 1.63157895, 1.84210526,\n",
       "       2.05263158, 2.26315789, 2.47368421, 2.68421053, 2.89473684,\n",
       "       3.10526316, 3.31578947, 3.52631579, 3.73684211, 3.94736842,\n",
       "       4.15789474, 4.36842105, 4.57894737, 4.78947368, 5.        ])"
      ]
     },
     "execution_count": 69,
     "metadata": {},
     "output_type": "execute_result"
    }
   ],
   "source": [
    "empl"
   ]
  },
  {
   "cell_type": "markdown",
   "id": "bfbc68f2",
   "metadata": {},
   "source": [
    "identity matrix of size 12 X 12"
   ]
  },
  {
   "cell_type": "code",
   "execution_count": 70,
   "id": "da572642",
   "metadata": {},
   "outputs": [],
   "source": [
    "ide = np.identity(12)"
   ]
  },
  {
   "cell_type": "code",
   "execution_count": 71,
   "id": "b80915dd",
   "metadata": {},
   "outputs": [
    {
     "data": {
      "text/plain": [
       "array([[1., 0., 0., 0., 0., 0., 0., 0., 0., 0., 0., 0.],\n",
       "       [0., 1., 0., 0., 0., 0., 0., 0., 0., 0., 0., 0.],\n",
       "       [0., 0., 1., 0., 0., 0., 0., 0., 0., 0., 0., 0.],\n",
       "       [0., 0., 0., 1., 0., 0., 0., 0., 0., 0., 0., 0.],\n",
       "       [0., 0., 0., 0., 1., 0., 0., 0., 0., 0., 0., 0.],\n",
       "       [0., 0., 0., 0., 0., 1., 0., 0., 0., 0., 0., 0.],\n",
       "       [0., 0., 0., 0., 0., 0., 1., 0., 0., 0., 0., 0.],\n",
       "       [0., 0., 0., 0., 0., 0., 0., 1., 0., 0., 0., 0.],\n",
       "       [0., 0., 0., 0., 0., 0., 0., 0., 1., 0., 0., 0.],\n",
       "       [0., 0., 0., 0., 0., 0., 0., 0., 0., 1., 0., 0.],\n",
       "       [0., 0., 0., 0., 0., 0., 0., 0., 0., 0., 1., 0.],\n",
       "       [0., 0., 0., 0., 0., 0., 0., 0., 0., 0., 0., 1.]])"
      ]
     },
     "execution_count": 71,
     "metadata": {},
     "output_type": "execute_result"
    }
   ],
   "source": [
    "ide"
   ]
  },
  {
   "cell_type": "markdown",
   "id": "fc3f4101",
   "metadata": {},
   "source": [
    "reshaping aa 1d array to 2d array but overall size should be same"
   ]
  },
  {
   "cell_type": "code",
   "execution_count": 72,
   "id": "b27811b1",
   "metadata": {},
   "outputs": [],
   "source": [
    "arr2 = np.arange(15)"
   ]
  },
  {
   "cell_type": "code",
   "execution_count": 73,
   "id": "52b9a8ab",
   "metadata": {},
   "outputs": [
    {
     "data": {
      "text/plain": [
       "array([ 0,  1,  2,  3,  4,  5,  6,  7,  8,  9, 10, 11, 12, 13, 14])"
      ]
     },
     "execution_count": 73,
     "metadata": {},
     "output_type": "execute_result"
    }
   ],
   "source": [
    "arr2"
   ]
  },
  {
   "cell_type": "code",
   "execution_count": 92,
   "id": "bb7e0402",
   "metadata": {},
   "outputs": [],
   "source": [
    "arr2 = arr2.reshape(5,3)"
   ]
  },
  {
   "cell_type": "code",
   "execution_count": 77,
   "id": "24fdc6c7",
   "metadata": {},
   "outputs": [
    {
     "data": {
      "text/plain": [
       "array([[ 0,  1,  2],\n",
       "       [ 3,  4,  5],\n",
       "       [ 6,  7,  8],\n",
       "       [ 9, 10, 11],\n",
       "       [12, 13, 14]])"
      ]
     },
     "execution_count": 77,
     "metadata": {},
     "output_type": "execute_result"
    }
   ],
   "source": [
    "arr2"
   ]
  },
  {
   "cell_type": "code",
   "execution_count": 78,
   "id": "14730593",
   "metadata": {},
   "outputs": [
    {
     "data": {
      "text/plain": [
       "(5, 3)"
      ]
     },
     "execution_count": 78,
     "metadata": {},
     "output_type": "execute_result"
    }
   ],
   "source": [
    "arr2.shape"
   ]
  },
  {
   "cell_type": "code",
   "execution_count": 103,
   "id": "30b91574",
   "metadata": {},
   "outputs": [],
   "source": [
    "arr2 = arr2.ravel()"
   ]
  },
  {
   "cell_type": "code",
   "execution_count": 104,
   "id": "2341134e",
   "metadata": {},
   "outputs": [
    {
     "data": {
      "text/plain": [
       "(15,)"
      ]
     },
     "execution_count": 104,
     "metadata": {},
     "output_type": "execute_result"
    }
   ],
   "source": [
    "arr2.shape"
   ]
  },
  {
   "cell_type": "code",
   "execution_count": 105,
   "id": "38797159",
   "metadata": {},
   "outputs": [
    {
     "data": {
      "text/plain": [
       "array([ 0,  1,  2,  3,  4,  5,  6,  7,  8,  9, 10, 11, 12, 13, 14])"
      ]
     },
     "execution_count": 105,
     "metadata": {},
     "output_type": "execute_result"
    }
   ],
   "source": [
    "arr2"
   ]
  },
  {
   "cell_type": "markdown",
   "id": "0d74447c",
   "metadata": {},
   "source": [
    "# the total number of axis of a numpy array is same as its dimension"
   ]
  },
  {
   "cell_type": "code",
   "execution_count": 107,
   "id": "5f82a7ab",
   "metadata": {},
   "outputs": [],
   "source": [
    "x=[[1,2,3],[4,5,6],[7,8,9]]"
   ]
  },
  {
   "cell_type": "code",
   "execution_count": 108,
   "id": "a2101ef5",
   "metadata": {},
   "outputs": [
    {
     "data": {
      "text/plain": [
       "[[1, 2, 3], [4, 5, 6], [7, 8, 9]]"
      ]
     },
     "execution_count": 108,
     "metadata": {},
     "output_type": "execute_result"
    }
   ],
   "source": [
    "x"
   ]
  },
  {
   "cell_type": "code",
   "execution_count": 109,
   "id": "c591cc86",
   "metadata": {},
   "outputs": [],
   "source": [
    "ax = np.array(x)"
   ]
  },
  {
   "cell_type": "code",
   "execution_count": 110,
   "id": "fee826f4",
   "metadata": {},
   "outputs": [
    {
     "data": {
      "text/plain": [
       "array([[1, 2, 3],\n",
       "       [4, 5, 6],\n",
       "       [7, 8, 9]])"
      ]
     },
     "execution_count": 110,
     "metadata": {},
     "output_type": "execute_result"
    }
   ],
   "source": [
    "ax"
   ]
  },
  {
   "cell_type": "markdown",
   "id": "b24b4d29",
   "metadata": {},
   "source": [
    "0th axis is towards rows and 1st axis is towards columns"
   ]
  },
  {
   "cell_type": "markdown",
   "id": "bfff28ff",
   "metadata": {},
   "source": [
    "sum of all elemnts in 0th axis"
   ]
  },
  {
   "cell_type": "code",
   "execution_count": 112,
   "id": "e4f5896d",
   "metadata": {},
   "outputs": [
    {
     "data": {
      "text/plain": [
       "array([12, 15, 18])"
      ]
     },
     "execution_count": 112,
     "metadata": {},
     "output_type": "execute_result"
    }
   ],
   "source": [
    "ax.sum(axis=0)"
   ]
  },
  {
   "cell_type": "markdown",
   "id": "385e4b91",
   "metadata": {},
   "source": [
    "sum of all elemnts in 1st axis"
   ]
  },
  {
   "cell_type": "code",
   "execution_count": 113,
   "id": "ae0b0d2e",
   "metadata": {},
   "outputs": [
    {
     "data": {
      "text/plain": [
       "array([ 6, 15, 24])"
      ]
     },
     "execution_count": 113,
     "metadata": {},
     "output_type": "execute_result"
    }
   ],
   "source": [
    "ax.sum(axis=1)"
   ]
  },
  {
   "cell_type": "markdown",
   "id": "f09de172",
   "metadata": {},
   "source": [
    "transposing 2d matrix"
   ]
  },
  {
   "cell_type": "code",
   "execution_count": 114,
   "id": "77d9fec1",
   "metadata": {},
   "outputs": [
    {
     "data": {
      "text/plain": [
       "array([[1, 4, 7],\n",
       "       [2, 5, 8],\n",
       "       [3, 6, 9]])"
      ]
     },
     "execution_count": 114,
     "metadata": {},
     "output_type": "execute_result"
    }
   ],
   "source": [
    "ax.T"
   ]
  },
  {
   "cell_type": "code",
   "execution_count": 115,
   "id": "22c9b7c9",
   "metadata": {},
   "outputs": [
    {
     "data": {
      "text/plain": [
       "array([[1, 2, 3],\n",
       "       [4, 5, 6],\n",
       "       [7, 8, 9]])"
      ]
     },
     "execution_count": 115,
     "metadata": {},
     "output_type": "execute_result"
    }
   ],
   "source": [
    "ax"
   ]
  },
  {
   "cell_type": "markdown",
   "id": "b2577eed",
   "metadata": {},
   "source": [
    "it gives you an iterator"
   ]
  },
  {
   "cell_type": "code",
   "execution_count": 119,
   "id": "62b15024",
   "metadata": {},
   "outputs": [
    {
     "data": {
      "text/plain": [
       "<numpy.flatiter at 0x19131e54460>"
      ]
     },
     "execution_count": 119,
     "metadata": {},
     "output_type": "execute_result"
    }
   ],
   "source": [
    "ax.flat"
   ]
  },
  {
   "cell_type": "code",
   "execution_count": 120,
   "id": "c011a568",
   "metadata": {},
   "outputs": [
    {
     "name": "stdout",
     "output_type": "stream",
     "text": [
      "1\n",
      "2\n",
      "3\n",
      "4\n",
      "5\n",
      "6\n",
      "7\n",
      "8\n",
      "9\n"
     ]
    }
   ],
   "source": [
    "for i in ax.flat:\n",
    "    print(i)"
   ]
  },
  {
   "cell_type": "markdown",
   "id": "bff22a5d",
   "metadata": {},
   "source": [
    "it tells us the number of dimensions of our array"
   ]
  },
  {
   "cell_type": "code",
   "execution_count": 123,
   "id": "5d4fac0a",
   "metadata": {},
   "outputs": [
    {
     "data": {
      "text/plain": [
       "2"
      ]
     },
     "execution_count": 123,
     "metadata": {},
     "output_type": "execute_result"
    }
   ],
   "source": [
    "ax.ndim"
   ]
  },
  {
   "cell_type": "code",
   "execution_count": 124,
   "id": "5574912e",
   "metadata": {},
   "outputs": [
    {
     "data": {
      "text/plain": [
       "9"
      ]
     },
     "execution_count": 124,
     "metadata": {},
     "output_type": "execute_result"
    }
   ],
   "source": [
    "ax.size"
   ]
  },
  {
   "cell_type": "markdown",
   "id": "e541625a",
   "metadata": {},
   "source": [
    "total bytes our array consumed"
   ]
  },
  {
   "cell_type": "code",
   "execution_count": 126,
   "id": "768ccd9f",
   "metadata": {},
   "outputs": [
    {
     "data": {
      "text/plain": [
       "36"
      ]
     },
     "execution_count": 126,
     "metadata": {},
     "output_type": "execute_result"
    }
   ],
   "source": [
    "ax.nbytes"
   ]
  },
  {
   "cell_type": "code",
   "execution_count": 132,
   "id": "5fec84eb",
   "metadata": {},
   "outputs": [],
   "source": [
    "app = np.array([1,2,54,61,0,12,34,4])"
   ]
  },
  {
   "cell_type": "markdown",
   "id": "e03ed2af",
   "metadata": {},
   "source": [
    "arg methods gives us indexes"
   ]
  },
  {
   "cell_type": "markdown",
   "id": "13d12538",
   "metadata": {},
   "source": [
    "index with max value"
   ]
  },
  {
   "cell_type": "code",
   "execution_count": 130,
   "id": "3c6b4fe2",
   "metadata": {},
   "outputs": [
    {
     "data": {
      "text/plain": [
       "3"
      ]
     },
     "execution_count": 130,
     "metadata": {},
     "output_type": "execute_result"
    }
   ],
   "source": [
    "app.argmax()"
   ]
  },
  {
   "cell_type": "markdown",
   "id": "79b72803",
   "metadata": {},
   "source": [
    "index with min value"
   ]
  },
  {
   "cell_type": "code",
   "execution_count": 133,
   "id": "9c696806",
   "metadata": {},
   "outputs": [
    {
     "data": {
      "text/plain": [
       "4"
      ]
     },
     "execution_count": 133,
     "metadata": {},
     "output_type": "execute_result"
    }
   ],
   "source": [
    "app.argmin()"
   ]
  },
  {
   "cell_type": "markdown",
   "id": "c04a44b0",
   "metadata": {},
   "source": [
    "order of indexes of our sorted array"
   ]
  },
  {
   "cell_type": "code",
   "execution_count": 134,
   "id": "ba06f343",
   "metadata": {},
   "outputs": [
    {
     "data": {
      "text/plain": [
       "array([4, 0, 1, 7, 5, 6, 2, 3], dtype=int64)"
      ]
     },
     "execution_count": 134,
     "metadata": {},
     "output_type": "execute_result"
    }
   ],
   "source": [
    "app.argsort()"
   ]
  },
  {
   "cell_type": "markdown",
   "id": "cefd7f27",
   "metadata": {},
   "source": [
    "for 2d arrays it makes the array 1d and then gives us the index"
   ]
  },
  {
   "cell_type": "code",
   "execution_count": 136,
   "id": "3183eb4e",
   "metadata": {},
   "outputs": [
    {
     "data": {
      "text/plain": [
       "8"
      ]
     },
     "execution_count": 136,
     "metadata": {},
     "output_type": "execute_result"
    }
   ],
   "source": [
    "ax.argmax()"
   ]
  },
  {
   "cell_type": "code",
   "execution_count": 137,
   "id": "eaacd261",
   "metadata": {},
   "outputs": [
    {
     "data": {
      "text/plain": [
       "array([[0, 1, 2],\n",
       "       [0, 1, 2],\n",
       "       [0, 1, 2]], dtype=int64)"
      ]
     },
     "execution_count": 137,
     "metadata": {},
     "output_type": "execute_result"
    }
   ],
   "source": [
    "ax.argsort()"
   ]
  },
  {
   "cell_type": "code",
   "execution_count": 138,
   "id": "cd5af7b2",
   "metadata": {},
   "outputs": [
    {
     "data": {
      "text/plain": [
       "array([2, 2, 2], dtype=int64)"
      ]
     },
     "execution_count": 138,
     "metadata": {},
     "output_type": "execute_result"
    }
   ],
   "source": [
    "ax.argmax(axis=0)"
   ]
  },
  {
   "cell_type": "code",
   "execution_count": 139,
   "id": "6e6ba51a",
   "metadata": {},
   "outputs": [
    {
     "data": {
      "text/plain": [
       "array([0, 0, 0], dtype=int64)"
      ]
     },
     "execution_count": 139,
     "metadata": {},
     "output_type": "execute_result"
    }
   ],
   "source": [
    "ax.argmin(axis=1)"
   ]
  },
  {
   "cell_type": "code",
   "execution_count": 140,
   "id": "b25b5177",
   "metadata": {},
   "outputs": [
    {
     "data": {
      "text/plain": [
       "array([[0, 0, 0],\n",
       "       [1, 1, 1],\n",
       "       [2, 2, 2]], dtype=int64)"
      ]
     },
     "execution_count": 140,
     "metadata": {},
     "output_type": "execute_result"
    }
   ],
   "source": [
    "ax.argsort(axis=0)"
   ]
  },
  {
   "cell_type": "code",
   "execution_count": 141,
   "id": "54d2d2fb",
   "metadata": {},
   "outputs": [
    {
     "data": {
      "text/plain": [
       "array([[0, 1, 2],\n",
       "       [0, 1, 2],\n",
       "       [0, 1, 2]], dtype=int64)"
      ]
     },
     "execution_count": 141,
     "metadata": {},
     "output_type": "execute_result"
    }
   ],
   "source": [
    "ax.argsort(axis=1)"
   ]
  },
  {
   "cell_type": "markdown",
   "id": "4e891ccb",
   "metadata": {},
   "source": [
    "it gives the following array in 1d"
   ]
  },
  {
   "cell_type": "code",
   "execution_count": 156,
   "id": "d4bd9e57",
   "metadata": {},
   "outputs": [
    {
     "data": {
      "text/plain": [
       "array([1, 2, 3, 4, 5, 6, 7, 8, 9])"
      ]
     },
     "execution_count": 156,
     "metadata": {},
     "output_type": "execute_result"
    }
   ],
   "source": [
    "ax.ravel()"
   ]
  },
  {
   "cell_type": "code",
   "execution_count": 157,
   "id": "9df954a4",
   "metadata": {},
   "outputs": [
    {
     "data": {
      "text/plain": [
       "array([[1],\n",
       "       [2],\n",
       "       [3],\n",
       "       [4],\n",
       "       [5],\n",
       "       [6],\n",
       "       [7],\n",
       "       [8],\n",
       "       [9]])"
      ]
     },
     "execution_count": 157,
     "metadata": {},
     "output_type": "execute_result"
    }
   ],
   "source": [
    "ax.reshape((9,1))"
   ]
  },
  {
   "cell_type": "code",
   "execution_count": 158,
   "id": "b7882271",
   "metadata": {},
   "outputs": [
    {
     "data": {
      "text/plain": [
       "array([[1, 2, 3],\n",
       "       [4, 5, 6],\n",
       "       [7, 8, 9]])"
      ]
     },
     "execution_count": 158,
     "metadata": {},
     "output_type": "execute_result"
    }
   ],
   "source": [
    "ax"
   ]
  },
  {
   "cell_type": "code",
   "execution_count": 163,
   "id": "28c2cd1a",
   "metadata": {},
   "outputs": [
    {
     "data": {
      "text/plain": [
       "array([[ 2, 34, 98],\n",
       "       [ 6,  1, 89],\n",
       "       [ 7,  9, 24]])"
      ]
     },
     "execution_count": 163,
     "metadata": {},
     "output_type": "execute_result"
    }
   ],
   "source": [
    "myarr"
   ]
  },
  {
   "cell_type": "markdown",
   "id": "e2b56cee",
   "metadata": {},
   "source": [
    "add the matrix element by element"
   ]
  },
  {
   "cell_type": "code",
   "execution_count": 165,
   "id": "24414de7",
   "metadata": {},
   "outputs": [
    {
     "data": {
      "text/plain": [
       "array([[  3,  36, 101],\n",
       "       [ 10,   6,  95],\n",
       "       [ 14,  17,  33]])"
      ]
     },
     "execution_count": 165,
     "metadata": {},
     "output_type": "execute_result"
    }
   ],
   "source": [
    "ax + myarr"
   ]
  },
  {
   "cell_type": "code",
   "execution_count": 166,
   "id": "8ac833bc",
   "metadata": {},
   "outputs": [
    {
     "data": {
      "text/plain": [
       "array([[  2,  68, 294],\n",
       "       [ 24,   5, 534],\n",
       "       [ 49,  72, 216]])"
      ]
     },
     "execution_count": 166,
     "metadata": {},
     "output_type": "execute_result"
    }
   ],
   "source": [
    "ax * myarr"
   ]
  },
  {
   "cell_type": "markdown",
   "id": "17824734",
   "metadata": {},
   "source": [
    "gives array of square root of the elements inside the array"
   ]
  },
  {
   "cell_type": "code",
   "execution_count": 170,
   "id": "8c01aaab",
   "metadata": {},
   "outputs": [
    {
     "data": {
      "text/plain": [
       "array([[1.41421356, 5.83095189, 9.89949494],\n",
       "       [2.44948974, 1.        , 9.43398113],\n",
       "       [2.64575131, 3.        , 4.89897949]])"
      ]
     },
     "execution_count": 170,
     "metadata": {},
     "output_type": "execute_result"
    }
   ],
   "source": [
    "np.sqrt(myarr)"
   ]
  },
  {
   "cell_type": "code",
   "execution_count": 171,
   "id": "17864108",
   "metadata": {},
   "outputs": [
    {
     "data": {
      "text/plain": [
       "45"
      ]
     },
     "execution_count": 171,
     "metadata": {},
     "output_type": "execute_result"
    }
   ],
   "source": [
    "ax.sum()"
   ]
  },
  {
   "cell_type": "code",
   "execution_count": 172,
   "id": "57fc0608",
   "metadata": {},
   "outputs": [
    {
     "data": {
      "text/plain": [
       "9"
      ]
     },
     "execution_count": 172,
     "metadata": {},
     "output_type": "execute_result"
    }
   ],
   "source": [
    "ax.max()"
   ]
  },
  {
   "cell_type": "code",
   "execution_count": 173,
   "id": "c7b90d31",
   "metadata": {},
   "outputs": [
    {
     "data": {
      "text/plain": [
       "1"
      ]
     },
     "execution_count": 173,
     "metadata": {},
     "output_type": "execute_result"
    }
   ],
   "source": [
    "ax.min()"
   ]
  },
  {
   "cell_type": "code",
   "execution_count": 174,
   "id": "4eced5ea",
   "metadata": {},
   "outputs": [
    {
     "data": {
      "text/plain": [
       "(array([1, 2, 2, 2], dtype=int64), array([2, 0, 1, 2], dtype=int64))"
      ]
     },
     "execution_count": 174,
     "metadata": {},
     "output_type": "execute_result"
    }
   ],
   "source": [
    "np.where(ax>5)"
   ]
  },
  {
   "cell_type": "code",
   "execution_count": 175,
   "id": "b31ab343",
   "metadata": {},
   "outputs": [
    {
     "data": {
      "text/plain": [
       "array([[1, 2, 3],\n",
       "       [4, 5, 6],\n",
       "       [7, 8, 9]])"
      ]
     },
     "execution_count": 175,
     "metadata": {},
     "output_type": "execute_result"
    }
   ],
   "source": [
    "ax"
   ]
  },
  {
   "cell_type": "markdown",
   "id": "2a6708d2",
   "metadata": {},
   "source": [
    "gives tuple which contains array of indexes for every axis where elements are greater than 5"
   ]
  },
  {
   "cell_type": "code",
   "execution_count": 192,
   "id": "b995c7d9",
   "metadata": {},
   "outputs": [
    {
     "data": {
      "text/plain": [
       "(array([0, 0, 1, 1, 2, 2, 2], dtype=int64),\n",
       " array([1, 2, 0, 2, 0, 1, 2], dtype=int64))"
      ]
     },
     "execution_count": 192,
     "metadata": {},
     "output_type": "execute_result"
    }
   ],
   "source": [
    "np.where(myarr>5)"
   ]
  },
  {
   "cell_type": "code",
   "execution_count": 184,
   "id": "4a8db619",
   "metadata": {},
   "outputs": [
    {
     "data": {
      "text/plain": [
       "array([[ 2, 34, 98],\n",
       "       [ 6,  1, 89],\n",
       "       [ 7,  9, 24]])"
      ]
     },
     "execution_count": 184,
     "metadata": {},
     "output_type": "execute_result"
    }
   ],
   "source": [
    "myarr"
   ]
  },
  {
   "cell_type": "markdown",
   "id": "894f9427",
   "metadata": {},
   "source": [
    "counts of non zeros"
   ]
  },
  {
   "cell_type": "code",
   "execution_count": 194,
   "id": "68b57e89",
   "metadata": {},
   "outputs": [
    {
     "data": {
      "text/plain": [
       "9"
      ]
     },
     "execution_count": 194,
     "metadata": {},
     "output_type": "execute_result"
    }
   ],
   "source": [
    "np.count_nonzero(ax)"
   ]
  },
  {
   "cell_type": "code",
   "execution_count": 195,
   "id": "5a5f1a16",
   "metadata": {},
   "outputs": [
    {
     "data": {
      "text/plain": [
       "(array([0, 0, 0, 1, 1, 1, 2, 2, 2], dtype=int64),\n",
       " array([0, 1, 2, 0, 1, 2, 0, 1, 2], dtype=int64))"
      ]
     },
     "execution_count": 195,
     "metadata": {},
     "output_type": "execute_result"
    }
   ],
   "source": [
    "np.nonzero(ax)"
   ]
  },
  {
   "cell_type": "code",
   "execution_count": 196,
   "id": "34d60a79",
   "metadata": {},
   "outputs": [],
   "source": [
    "import sys "
   ]
  },
  {
   "cell_type": "code",
   "execution_count": 212,
   "id": "2d5fdfeb",
   "metadata": {},
   "outputs": [],
   "source": [
    "py_ar = [8,6,7,5]"
   ]
  },
  {
   "cell_type": "code",
   "execution_count": 213,
   "id": "68307529",
   "metadata": {},
   "outputs": [],
   "source": [
    "np_ar = np.array(py_ar)"
   ]
  },
  {
   "cell_type": "code",
   "execution_count": 214,
   "id": "aed81c6d",
   "metadata": {},
   "outputs": [
    {
     "data": {
      "text/plain": [
       "112"
      ]
     },
     "execution_count": 214,
     "metadata": {},
     "output_type": "execute_result"
    }
   ],
   "source": [
    "sys.getsizeof(1) * len(py_ar)"
   ]
  },
  {
   "cell_type": "code",
   "execution_count": 215,
   "id": "aa6a076f",
   "metadata": {},
   "outputs": [
    {
     "data": {
      "text/plain": [
       "16"
      ]
     },
     "execution_count": 215,
     "metadata": {},
     "output_type": "execute_result"
    }
   ],
   "source": [
    "np_ar.itemsize * np_ar.size"
   ]
  },
  {
   "cell_type": "code",
   "execution_count": null,
   "id": "a445637e",
   "metadata": {},
   "outputs": [],
   "source": []
  }
 ],
 "metadata": {
  "kernelspec": {
   "display_name": "Python 3 (ipykernel)",
   "language": "python",
   "name": "python3"
  },
  "language_info": {
   "codemirror_mode": {
    "name": "ipython",
    "version": 3
   },
   "file_extension": ".py",
   "mimetype": "text/x-python",
   "name": "python",
   "nbconvert_exporter": "python",
   "pygments_lexer": "ipython3",
   "version": "3.10.6"
  }
 },
 "nbformat": 4,
 "nbformat_minor": 5
}
